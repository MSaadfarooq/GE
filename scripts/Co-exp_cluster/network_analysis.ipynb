{
 "cells": [
  {
   "cell_type": "markdown",
   "metadata": {},
   "source": [
    "# Network analysis using PyWGCNA\n",
    "\n",
    "After you finding your modules, you can plot each module or all modules together as a network.\n",
    "\n",
    "This notebook shows several ways of visualizing the resultant networks.\n",
    "\n",
    "First, read in the PyWGCNA object."
   ]
  },
  {
   "cell_type": "code",
   "execution_count": 1,
   "metadata": {},
   "outputs": [
    {
     "name": "stdout",
     "output_type": "stream",
     "text": [
      "\u001b[1m\u001b[94mReading cb WGCNA done!\u001b[0m\n"
     ]
    },
    {
     "data": {
      "text/html": [
       "<div>\n",
       "<style scoped>\n",
       "    .dataframe tbody tr th:only-of-type {\n",
       "        vertical-align: middle;\n",
       "    }\n",
       "\n",
       "    .dataframe tbody tr th {\n",
       "        vertical-align: top;\n",
       "    }\n",
       "\n",
       "    .dataframe thead th {\n",
       "        text-align: right;\n",
       "    }\n",
       "</style>\n",
       "<table border=\"1\" class=\"dataframe\">\n",
       "  <thead>\n",
       "    <tr style=\"text-align: right;\">\n",
       "      <th></th>\n",
       "      <th>dynamicColors</th>\n",
       "      <th>moduleColors</th>\n",
       "      <th>moduleLabels</th>\n",
       "      <th>gene_name</th>\n",
       "      <th>gene_biotype</th>\n",
       "    </tr>\n",
       "  </thead>\n",
       "  <tbody>\n",
       "    <tr>\n",
       "      <th>ENSG00000000003</th>\n",
       "      <td>chartreuse</td>\n",
       "      <td>chartreuse</td>\n",
       "      <td>3.0</td>\n",
       "      <td>TSPAN6</td>\n",
       "      <td>protein_coding</td>\n",
       "    </tr>\n",
       "    <tr>\n",
       "      <th>ENSG00000000419</th>\n",
       "      <td>rosybrown</td>\n",
       "      <td>rosybrown</td>\n",
       "      <td>24.0</td>\n",
       "      <td>DPM1</td>\n",
       "      <td>protein_coding</td>\n",
       "    </tr>\n",
       "    <tr>\n",
       "      <th>ENSG00000000457</th>\n",
       "      <td>rosybrown</td>\n",
       "      <td>rosybrown</td>\n",
       "      <td>24.0</td>\n",
       "      <td>SCYL3</td>\n",
       "      <td>protein_coding</td>\n",
       "    </tr>\n",
       "    <tr>\n",
       "      <th>ENSG00000000460</th>\n",
       "      <td>darkgreen</td>\n",
       "      <td>darkgreen</td>\n",
       "      <td>6.0</td>\n",
       "      <td>FIRRM</td>\n",
       "      <td>protein_coding</td>\n",
       "    </tr>\n",
       "    <tr>\n",
       "      <th>ENSG00000000938</th>\n",
       "      <td>rosybrown</td>\n",
       "      <td>rosybrown</td>\n",
       "      <td>24.0</td>\n",
       "      <td>FGR</td>\n",
       "      <td>protein_coding</td>\n",
       "    </tr>\n",
       "  </tbody>\n",
       "</table>\n",
       "</div>"
      ],
      "text/plain": [
       "                dynamicColors moduleColors  moduleLabels gene_name  \\\n",
       "ENSG00000000003    chartreuse   chartreuse           3.0    TSPAN6   \n",
       "ENSG00000000419     rosybrown    rosybrown          24.0      DPM1   \n",
       "ENSG00000000457     rosybrown    rosybrown          24.0     SCYL3   \n",
       "ENSG00000000460     darkgreen    darkgreen           6.0     FIRRM   \n",
       "ENSG00000000938     rosybrown    rosybrown          24.0       FGR   \n",
       "\n",
       "                   gene_biotype  \n",
       "ENSG00000000003  protein_coding  \n",
       "ENSG00000000419  protein_coding  \n",
       "ENSG00000000457  protein_coding  \n",
       "ENSG00000000460  protein_coding  \n",
       "ENSG00000000938  protein_coding  "
      ]
     },
     "execution_count": 1,
     "metadata": {},
     "output_type": "execute_result"
    }
   ],
   "source": [
    "import PyWGCNA\n",
    "pyWGCNA_cb = PyWGCNA.readWGCNA(\"cb.p\")\n",
    "pyWGCNA_cb.datExpr.var.head(5)"
   ]
  },
  {
   "cell_type": "markdown",
   "metadata": {},
   "source": [
    "## Module network plot\n",
    "\n",
    "You can plot each module as a network using the [`CoexpressionModulePlot()` function](https://mortazavilab.github.io/PyWGCNA/html/_modules/PyWGCNA/wgcna.html#WGCNA.CoexpressionModulePlot). This will save the plot as an html file in the output directory `figures/network` with the module name. For this example, it will save at `figures/network/black.html`.\n",
    "\n",
    "You can define the number of genes and connections you want to see and the minimum TOM value to be considered a connection or not.\n",
    "\n",
    "The HTML file is an interactive network so if you click on any nodes you can see additional information about each node (gene)."
   ]
  },
  {
   "cell_type": "code",
   "execution_count": 3,
   "metadata": {},
   "outputs": [],
   "source": [
    "pyWGCNA_cb.CoexpressionModulePlot(modules=[\"darkgreen\"], numGenes=10, numConnections=100, minTOM=0)"
   ]
  },
  {
   "cell_type": "markdown",
   "metadata": {},
   "source": [
    "If you want to display a network for more than one module and to show the connections between each module, you can simply provide a list of modules to the `CoexpressionModulePlot()` function.\n",
    "\n",
    "In this example, we're showing the network for all found modules:"
   ]
  },
  {
   "cell_type": "code",
   "execution_count": 4,
   "metadata": {},
   "outputs": [],
   "source": [
    "modules = pyWGCNA_cb.datExpr.var.moduleColors.unique().tolist()\n",
    "pyWGCNA_cb.CoexpressionModulePlot(modules=modules, numGenes=100, numConnections=1000, minTOM=0, file_name=\"all\")"
   ]
  },
  {
   "cell_type": "markdown",
   "metadata": {},
   "source": [
    "You can also filter genes based on the information you have in `datExpr.var`. Imagine we only want to see protein coding genes in the darkgray module."
   ]
  },
  {
   "cell_type": "code",
   "execution_count": 6,
   "metadata": {},
   "outputs": [],
   "source": [
    "filters = {\"gene_biotype\": [\"protein_coding\"]}\n",
    "pyWGCNA_cb.CoexpressionModulePlot(modules=[\"rosybrown\"], filters=filters, file_name=\"rosybrown_protein_coding\")"
   ]
  },
  {
   "cell_type": "code",
   "execution_count": null,
   "metadata": {
    "editable": true,
    "slideshow": {
     "slide_type": ""
    },
    "tags": []
   },
   "outputs": [],
   "source": []
  }
 ],
 "metadata": {
  "kernelspec": {
   "display_name": "Python 3 (ipykernel)",
   "language": "python",
   "name": "python3"
  },
  "language_info": {
   "codemirror_mode": {
    "name": "ipython",
    "version": 3
   },
   "file_extension": ".py",
   "mimetype": "text/x-python",
   "name": "python",
   "nbconvert_exporter": "python",
   "pygments_lexer": "ipython3",
   "version": "3.12.2"
  }
 },
 "nbformat": 4,
 "nbformat_minor": 4
}
